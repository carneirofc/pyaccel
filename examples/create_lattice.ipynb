{
 "metadata": {
  "name": ""
 },
 "nbformat": 3,
 "nbformat_minor": 0,
 "worksheets": [
  {
   "cells": [
    {
     "cell_type": "code",
     "collapsed": false,
     "input": [
      "# loads pyaccel library in interactive mode\n",
      "from pyaccel.interactive import *"
     ],
     "language": "python",
     "metadata": {},
     "outputs": [
      {
       "output_type": "stream",
       "stream": "stdout",
       "text": [
        "Names defined in pyaccel.interactive: create_accelerator, de, dl, np, plt, px, py, pyaccel_version, rx, ry, si_model, marker, bpm, drift, hcorrector, vcorrector, corrector, rbend, quadrupole, sextupole, rfcavity, Kicktable, flatlat, buildlat, shiftlat, lengthlat, findspos, findcells, getcellstruct, setcellstruct, finddict, knobvalue_set, knobvalue_add, read_flat_file, write_flat_file, Accelerator, elementpass, linepass, ringpass, set4dtracking, set6dtracking, findorbit4, findorbit6, findm66, gettwiss, calctwiss, getrffrequency, getrevolutionperiod, getrevolutionfrequency, getfractunes, gettunes, getchromaticities, getmcf, getradiationintegrals.\n",
        "\n"
       ]
      }
     ],
     "prompt_number": 1
    },
    {
     "cell_type": "code",
     "collapsed": false,
     "input": [
      "# creates a FODO lattice with a corrector\n",
      "\n",
      "ds = drift(fam_name='ds', length=0.2)\n",
      "qf = quadrupole(fam_name='qf', length=0.5, K=+2.0)\n",
      "qd = quadrupole(fam_name='qd', length=0.5, K=-2.0)\n",
      "cm = corrector(fam_name='cm', length=0.1, hkick=1e-3, vkick=1e-3)\n",
      "\n",
      "elist = [ds, qf, ds, qd, cm]\n",
      "lattice = buildlat(elist)\n",
      "\n",
      "# creates an accelerator model with previous defined lattice\n",
      "the_ring = Accelerator(lattice=lattice)\n",
      "print('Basic information on the accelerator:'), print()\n",
      "print(the_ring)"
     ],
     "language": "python",
     "metadata": {},
     "outputs": [
      {
       "output_type": "stream",
       "stream": "stdout",
       "text": [
        "Basic information on the accelerator:\n",
        "\n",
        "energy         : 510998.92760316096 eV\n",
        "harmonic_number: 0\n",
        "cavity_on      : False\n",
        "radiation_on   : False\n",
        "vchamber_on    : False\n",
        "lattice size   : 5\n",
        "lattice length : 1.5 m\n"
       ]
      }
     ],
     "prompt_number": 2
    },
    {
     "cell_type": "code",
     "collapsed": false,
     "input": [
      "# finds 4d closed orbit ar start of each element\n",
      "\n",
      "co = findorbit4(accelerator=the_ring, energy_offset=0.0, indices='open')\n",
      "print(co)"
     ],
     "language": "python",
     "metadata": {},
     "outputs": [
      {
       "output_type": "stream",
       "stream": "stdout",
       "text": [
        "[[ 0.00437601  0.00489187  0.00490383  0.00439715  0.00416809]\n",
        " [ 0.00257926  0.00257926 -0.0025334  -0.0025334   0.00157926]\n",
        " [ 0.00505138  0.00466674  0.0048391   0.00536732  0.0052937 ]\n",
        " [-0.00192319 -0.00192319  0.0026411   0.0026411  -0.00292319]]\n"
       ]
      }
     ],
     "prompt_number": 4
    },
    {
     "cell_type": "code",
     "collapsed": false,
     "input": [],
     "language": "python",
     "metadata": {},
     "outputs": []
    }
   ],
   "metadata": {}
  }
 ]
}