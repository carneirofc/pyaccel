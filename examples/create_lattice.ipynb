{
 "metadata": {
  "name": ""
 },
 "nbformat": 3,
 "nbformat_minor": 0,
 "worksheets": [
  {
   "cells": [
    {
     "cell_type": "code",
     "collapsed": false,
     "input": [
      "# loads pyaccel library in interactive mode\n",
      "from sirius.interactive import *"
     ],
     "language": "python",
     "metadata": {},
     "outputs": [
      {
       "output_type": "stream",
       "stream": "stdout",
       "text": [
        "Names defined in sirius.interactive: Accelerator, Kicktable, add_error_excitation_kdip, add_error_excitation_main, add_error_misalignment_x, add_error_misalignment_y, add_error_multipoles, add_error_rotation_pitch, add_error_rotation_roll, add_error_rotation_yaw, add_knob, bo, bpm, build, calc_emittance_coupling, calc_lifetimes, calc_twiss, corrector, de, dl, draw_lattice, drift, element_pass, find_dict, find_indices, find_m44, find_m66, find_orbit4, find_orbit6, find_spos, flatten, get_attribute, get_beam_size, get_chromaticities, get_equilibrium_parameters, get_error_misalignment_x, get_error_misalignment_y, get_error_rotation_pitch, get_error_rotation_roll, get_error_rotation_yaw, get_frac_tunes, get_mcf, get_natural_bunch_length, get_natural_emittance, get_natural_energy_spread, get_radiation_integrals, get_revolution_frequency, get_revolution_period, get_rf_frequency, get_rf_voltage, get_traces, get_transverse_acceptance, get_twiss, hcorrector, length, line_pass, marker, np, plot_twiss, plt, px, py, pyaccel_version, quadrupole, rbend, read_flat_file, refine_lattice, rfcavity, ring_pass, rx, ry, set_4d_tracking, set_6d_tracking, set_attribute, set_error_misalignment_x, set_error_misalignment_y, set_error_rotation_pitch, set_error_rotation_roll, set_error_rotation_yaw, set_knob, sextupole, shift, si, tb, ts, vcorrector, write_flat_file, write_flat_file_to_string.\n",
        "\n"
       ]
      }
     ],
     "prompt_number": 1
    },
    {
     "cell_type": "code",
     "collapsed": false,
     "input": [
      "# creates a FODO lattice with a corrector\n",
      "\n",
      "ds = drift(fam_name='ds', length=0.2)\n",
      "qf = quadrupole(fam_name='qf', length=0.5, K=+2.0)\n",
      "qd = quadrupole(fam_name='qd', length=0.5, K=-2.0)\n",
      "cm = corrector(fam_name='cm', length=0.1, hkick=1e-3, vkick=1e-3)\n",
      "\n",
      "elist = [ds, qf, ds, qd, cm]\n",
      "lattice = build(elist)\n",
      "\n",
      "# creates an accelerator model with previous defined lattice\n",
      "the_ring = Accelerator(lattice=lattice)\n",
      "print('Basic information on the accelerator:'), print()\n",
      "print(the_ring)"
     ],
     "language": "python",
     "metadata": {},
     "outputs": [
      {
       "output_type": "stream",
       "stream": "stdout",
       "text": [
        "Basic information on the accelerator:\n",
        "\n",
        "energy         : 510998.9277159154 eV\n",
        "harmonic_number: 0\n",
        "cavity_on      : False\n",
        "radiation_on   : False\n",
        "vchamber_on    : False\n",
        "lattice size   : 5\n",
        "lattice length : 1.5 m\n"
       ]
      }
     ],
     "prompt_number": 2
    },
    {
     "cell_type": "code",
     "collapsed": false,
     "input": [
      "# finds 4d closed orbit at start of each element\n",
      "\n",
      "co = find_orbit4(accelerator=the_ring, energy_offset=0.0, indices='open')\n",
      "print(co)"
     ],
     "language": "python",
     "metadata": {},
     "outputs": [
      {
       "output_type": "stream",
       "stream": "stdout",
       "text": [
        "[[ 0.00437601  0.00489187  0.00490383  0.00439715  0.00416809]\n",
        " [ 0.00257926  0.00257926 -0.0025334  -0.0025334   0.00157926]\n",
        " [ 0.00505138  0.00466674  0.0048391   0.00536732  0.0052937 ]\n",
        " [-0.00192319 -0.00192319  0.0026411   0.0026411  -0.00292319]]\n"
       ]
      }
     ],
     "prompt_number": 3
    },
    {
     "cell_type": "code",
     "collapsed": false,
     "input": [],
     "language": "python",
     "metadata": {},
     "outputs": []
    }
   ],
   "metadata": {}
  }
 ]
}