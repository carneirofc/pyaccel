{
 "metadata": {
  "name": ""
 },
 "nbformat": 3,
 "nbformat_minor": 0,
 "worksheets": [
  {
   "cells": [
    {
     "cell_type": "code",
     "collapsed": false,
     "input": [
      "import pyaccel"
     ],
     "language": "python",
     "metadata": {},
     "outputs": [],
     "prompt_number": 2
    },
    {
     "cell_type": "code",
     "collapsed": false,
     "input": [
      "ds = pyaccel.elements.drift(fam_name='ds', length=0.2)\n",
      "qf = pyaccel.elements.quadrupole(fam_name='qf', length=0.5, K=+2.0)\n",
      "qd = pyaccel.elements.quadrupole(fam_name='qd', length=0.5, K=-2.0)\n",
      "\n",
      "elist = [ds, qf, ds, qd]\n",
      "lattice = pyaccel.lattice.buildlat(elist)\n",
      "the_ring = pyaccel.accelerator.Accelerator(energy=3e9, lattice=lattice)"
     ],
     "language": "python",
     "metadata": {},
     "outputs": [],
     "prompt_number": 2
    },
    {
     "cell_type": "code",
     "collapsed": false,
     "input": [
      "a, b = pyaccel.optics.getfractunes(the_ring, closed_orbit=0)"
     ],
     "language": "python",
     "metadata": {},
     "outputs": [],
     "prompt_number": "*"
    },
    {
     "cell_type": "code",
     "collapsed": false,
     "input": [
      "help(pyaccel.lattice)"
     ],
     "language": "python",
     "metadata": {},
     "outputs": [
      {
       "output_type": "stream",
       "stream": "stdout",
       "text": [
        "Help on module pyaccel.lattice in pyaccel:\n",
        "\n",
        "NAME\n",
        "    pyaccel.lattice\n",
        "\n",
        "FUNCTIONS\n",
        "    buildlat(elist)\n",
        "        Build lattice from a list of elements and lines\n",
        "    \n",
        "    findcells(lattice, attribute_name, value=None)\n",
        "        Returns a list with indices of elements that match criteria 'attribute_name=value'\n",
        "    \n",
        "    finddict(lattice, attribute_name)\n",
        "        Return a dict which correlates values of 'attribute_name' and a list of indices corresponding to matching elements\n",
        "    \n",
        "    findspos(lattice, indices=None)\n",
        "        Return longitudinal position of the entrance for all lattice elements\n",
        "    \n",
        "    flatlat(elist)\n",
        "        Take a list-of-list-of-... elements and flattens it: a simple list of lattice elements\n",
        "    \n",
        "    getcellstruct(lattice, attribute_name, indices=None, m=None, n=None)\n",
        "        Return a list with requested lattice data\n",
        "    \n",
        "    knobvalue_add(lattice, fam_name, attribute_name, value)\n",
        "    \n",
        "    knobvalue_set(lattice, fam_name, attribute_name, value)\n",
        "    \n",
        "    lengthlat(lattice)\n",
        "    \n",
        "    setcellstruct(lattice, attribute_name, indices, values)\n",
        "        sets elements data and returns a new updated lattice\n",
        "    \n",
        "    shiftlat(lattice, start)\n",
        "        Shift periodically the lattice so that it starts at element whose index is 'start'\n",
        "\n",
        "FILE\n",
        "    /home/fac_files/code/pyaccel/lattice.py\n",
        "\n",
        "\n"
       ]
      }
     ],
     "prompt_number": 4
    }
   ],
   "metadata": {}
  }
 ]
}