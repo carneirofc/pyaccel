{
 "metadata": {
  "name": ""
 },
 "nbformat": 3,
 "nbformat_minor": 0,
 "worksheets": [
  {
   "cells": [
    {
     "cell_type": "code",
     "collapsed": false,
     "input": [
      "from sirius.interactive import *"
     ],
     "language": "python",
     "metadata": {},
     "outputs": [
      {
       "output_type": "stream",
       "stream": "stdout",
       "text": [
        "Names defined in sirius.interactive: Accelerator, Kicktable, add_error_excitation_kdip, add_error_excitation_main, add_error_misalignment_x, add_error_misalignment_y, add_error_multipoles, add_error_rotation_pitch, add_error_rotation_roll, add_error_rotation_yaw, add_knob, bo, bpm, build, calc_emittance_coupling, calc_lifetimes, calc_twiss, corrector, de, dl, draw_lattice, drift, elementpass, find_dict, find_indices, find_spos, findm44, findm66, findorbit4, findorbit6, flatten, get_attribute, get_beam_size, get_chromaticities, get_equilibrium_parameters, get_error_misalignment_x, get_error_misalignment_y, get_error_rotation_pitch, get_error_rotation_roll, get_error_rotation_yaw, get_frac_tunes, get_mcf, get_natural_bunch_length, get_natural_emittance, get_natural_energy_spread, get_radiation_integrals, get_revolution_frequency, get_revolution_period, get_rf_frequency, get_rf_voltage, get_traces, get_transverse_acceptance, get_twiss, hcorrector, length, linepass, marker, np, plot_twiss, plt, px, py, pyaccel_version, quadrupole, rbend, read_flat_file, refine_lattice, rfcavity, ringpass, rx, ry, set4dtracking, set6dtracking, set_attribute, set_error_misalignment_x, set_error_misalignment_y, set_error_rotation_pitch, set_error_rotation_roll, set_error_rotation_yaw, set_knob, sextupole, shift, si, tb, ts, vcorrector, write_flat_file, write_flat_file_to_string.\n",
        "\n"
       ]
      }
     ],
     "prompt_number": 1
    },
    {
     "cell_type": "code",
     "collapsed": false,
     "input": [
      "# creates\n",
      "the_ring = si.create_accelerator()\n",
      "print('Lattice version: ' + si.lattice_version)\n",
      "print()\n",
      "print(the_ring)"
     ],
     "language": "python",
     "metadata": {},
     "outputs": [
      {
       "output_type": "stream",
       "stream": "stdout",
       "text": [
        "Lattice version: SI_V12\n",
        "\n",
        "energy         : 3000000000.0 eV\n",
        "harmonic_number: 864\n",
        "cavity_on      : False\n",
        "radiation_on   : False\n",
        "vchamber_on    : False\n",
        "lattice size   : 3704\n",
        "lattice length : 518.3959999999935 m\n"
       ]
      }
     ],
     "prompt_number": 3
    },
    {
     "cell_type": "code",
     "collapsed": false,
     "input": [],
     "language": "python",
     "metadata": {},
     "outputs": []
    }
   ],
   "metadata": {}
  }
 ]
}