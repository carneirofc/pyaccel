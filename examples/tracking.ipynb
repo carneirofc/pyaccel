{
 "metadata": {
  "name": ""
 },
 "nbformat": 3,
 "nbformat_minor": 0,
 "worksheets": [
  {
   "cells": [
    {
     "cell_type": "code",
     "collapsed": false,
     "input": [
      "from sirius.interactive import *"
     ],
     "language": "python",
     "metadata": {},
     "outputs": [
      {
       "output_type": "stream",
       "stream": "stdout",
       "text": [
        "Names defined in sirius.interactive: Accelerator, Kicktable, add_error_misalignment_x, add_error_misalignment_y, add_error_rotation_roll, add_knob, bo_model, bpm, build, calc_twiss, corrector, de, dl, draw_lattice, drift, elementpass, find_dict, find_indices, find_spos, findm66, findorbit4, findorbit6, flatten, get_attribute, get_beam_size, get_chromaticities, get_equilibrium_parameters, get_error_misalignment_x, get_error_misalignment_y, get_error_rotation_roll, get_frac_tunes, get_mcf, get_natural_bunch_length, get_natural_emittance, get_natural_energy_spread, get_radiation_integrals, get_radiation_integrals2, get_revolution_frequency, get_revolution_period, get_rf_frequency, get_rf_voltage, get_traces, get_transverse_acceptance, get_twiss, hcorrector, length, linepass, marker, np, plot_twiss, plt, px, py, pyaccel_version, quadrupole, rbend, read_flat_file, refine_lattice, rfcavity, ringpass, rx, ry, set4dtracking, set6dtracking, set_attribute, set_error_misalignment_x, set_error_misalignment_y, set_error_rotation_roll, set_knob, sextupole, shift, si_model, vcorrector, write_flat_file.\n",
        "\n"
       ]
      }
     ],
     "prompt_number": 2
    },
    {
     "cell_type": "code",
     "collapsed": false,
     "input": [
      "# creates\n",
      "the_ring = si_model.create_accelerator()\n",
      "print('Lattice version: ' + si_model.lattice_version)\n",
      "print()\n",
      "print(the_ring)"
     ],
     "language": "python",
     "metadata": {},
     "outputs": [
      {
       "output_type": "stream",
       "stream": "stdout",
       "text": [
        "Lattice version: SI_V07\n",
        "\n",
        "energy         : 3000000000.0 eV\n",
        "harmonic_number: 864\n",
        "cavity_on      : False\n",
        "radiation_on   : False\n",
        "vchamber_on    : False\n",
        "lattice size   : 3279\n",
        "lattice length : 518.395999999992 m\n"
       ]
      }
     ],
     "prompt_number": 3
    },
    {
     "cell_type": "code",
     "collapsed": false,
     "input": [],
     "language": "python",
     "metadata": {},
     "outputs": []
    }
   ],
   "metadata": {}
  }
 ]
}