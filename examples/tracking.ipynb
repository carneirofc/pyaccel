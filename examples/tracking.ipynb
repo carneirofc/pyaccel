{
 "metadata": {
  "name": ""
 },
 "nbformat": 3,
 "nbformat_minor": 0,
 "worksheets": [
  {
   "cells": [
    {
     "cell_type": "code",
     "collapsed": false,
     "input": [
      "from pyaccel.interactive import *"
     ],
     "language": "python",
     "metadata": {},
     "outputs": [],
     "prompt_number": 3
    },
    {
     "cell_type": "code",
     "collapsed": false,
     "input": [
      "# creates\n",
      "the_ring = si_model.create_accelerator()\n",
      "print('Lattice version: ' + si_model.lattice_version)\n",
      "print()\n",
      "print(the_ring)"
     ],
     "language": "python",
     "metadata": {},
     "outputs": [
      {
       "output_type": "stream",
       "stream": "stdout",
       "text": [
        "Lattice version: SI_V07\n",
        "\n",
        "energy         : 3000000000.0 eV\n",
        "harmonic_number: 864\n",
        "cavity_on      : False\n",
        "radiation_on   : False\n",
        "vchamber_on    : False\n",
        "lattice size   : 3279\n",
        "lattice length : 518.395999999992 m\n"
       ]
      }
     ],
     "prompt_number": 6
    }
   ],
   "metadata": {}
  }
 ]
}